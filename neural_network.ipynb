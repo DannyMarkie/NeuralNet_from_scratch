{
 "cells": [
  {
   "cell_type": "code",
   "execution_count": 346,
   "metadata": {},
   "outputs": [],
   "source": [
    "import numpy as np"
   ]
  },
  {
   "cell_type": "code",
   "execution_count": 347,
   "metadata": {},
   "outputs": [],
   "source": [
    "class Activation:\n",
    "    def __init__(self) -> None:\n",
    "        pass"
   ]
  },
  {
   "cell_type": "code",
   "execution_count": 348,
   "metadata": {},
   "outputs": [],
   "source": [
    "class ReLU(Activation):\n",
    "    def run(self, Z):\n",
    "        return np.maximum(Z, 0)"
   ]
  },
  {
   "cell_type": "code",
   "execution_count": 349,
   "metadata": {},
   "outputs": [],
   "source": [
    "class Layer:\n",
    "    def __init__(self, inputShape=None, size=None, activation: Activation=None) -> None:\n",
    "        self.inputShape = inputShape\n",
    "        self.size = size\n",
    "        self.activation = activation\n",
    "\n",
    "    def init_params(self):\n",
    "        pass"
   ]
  },
  {
   "cell_type": "code",
   "execution_count": 350,
   "metadata": {},
   "outputs": [],
   "source": [
    "class Flatten(Layer):\n",
    "    def __init__(self, inputShape=None) -> None:\n",
    "        super().__init__(inputShape)\n",
    "        self.inputShape = inputShape\n",
    "        self.size = np.prod(inputShape)\n",
    "        self.weights = []\n",
    "        self.biases = []\n",
    "        self.parameterCount = 0\n",
    "\n",
    "    def __str__(self) -> str:\n",
    "        return f\"Flatten Layer\""
   ]
  },
  {
   "cell_type": "code",
   "execution_count": 351,
   "metadata": {},
   "outputs": [],
   "source": [
    "class Dense(Layer):\n",
    "    def __init__(self, size, activation: Activation, inputShape=None) -> None:\n",
    "        super().__init__(inputShape=inputShape, size=size, activation=activation)\n",
    "\n",
    "    def __str__(self) -> str:\n",
    "        return f\"Dense Layer\"\n",
    "    \n",
    "    def init_params(self):\n",
    "        self.weights = np.random.rand(self.size, self.inputShape) - 0.5\n",
    "        self.biases = np.random.rand(self.size, 1) - 0.5\n",
    "        print(len(self.weights), len(self.weights[0]))\n",
    "        self.parameterCount = (len(self.weights) * len(self.weights[0])) + len(self.biases) * len(self.biases[0])"
   ]
  },
  {
   "cell_type": "code",
   "execution_count": 352,
   "metadata": {},
   "outputs": [],
   "source": [
    "class NeuralNetwork:\n",
    "    def __init__(self, layers: Layer):\n",
    "        self.layers = layers\n",
    "        self.set_input_sizes()\n",
    "        self.init_params()\n",
    "\n",
    "    def fit(self, X, Y, batch_size=1, epochs=3):\n",
    "        pass\n",
    "\n",
    "    def add(self):\n",
    "        pass\n",
    "\n",
    "    def set_input_sizes(self):\n",
    "        for layer in self.layers:\n",
    "            if type(layer) == Flatten:\n",
    "                previousOutputShape = layer.size\n",
    "                continue\n",
    "            layer.inputShape = previousOutputShape\n",
    "            previousOutputShape = layer.size\n",
    "\n",
    "    def init_params(self):\n",
    "        for layer in self.layers:\n",
    "            layer.init_params()\n",
    "\n",
    "    def summary(self):\n",
    "        for layer in self.layers:\n",
    "            print(f'{layer}, input shape: {layer.inputShape}, Parameters: {layer.parameterCount}')"
   ]
  },
  {
   "cell_type": "code",
   "execution_count": 353,
   "metadata": {},
   "outputs": [
    {
     "name": "stdout",
     "output_type": "stream",
     "text": [
      "10 784\n"
     ]
    }
   ],
   "source": [
    "model = NeuralNetwork([Flatten(inputShape=(28, 28)),\n",
    "                Dense(size=10, activation=ReLU())])"
   ]
  },
  {
   "cell_type": "code",
   "execution_count": 354,
   "metadata": {},
   "outputs": [
    {
     "name": "stdout",
     "output_type": "stream",
     "text": [
      "Flatten Layer, input shape: (28, 28), Parameters: 0\n",
      "Dense Layer, input shape: 784, Parameters: 7850\n"
     ]
    }
   ],
   "source": [
    "model.summary()"
   ]
  },
  {
   "cell_type": "code",
   "execution_count": null,
   "metadata": {},
   "outputs": [],
   "source": []
  }
 ],
 "metadata": {
  "kernelspec": {
   "display_name": "Python 3",
   "language": "python",
   "name": "python3"
  },
  "language_info": {
   "codemirror_mode": {
    "name": "ipython",
    "version": 3
   },
   "file_extension": ".py",
   "mimetype": "text/x-python",
   "name": "python",
   "nbconvert_exporter": "python",
   "pygments_lexer": "ipython3",
   "version": "3.10.9"
  },
  "orig_nbformat": 4,
  "vscode": {
   "interpreter": {
    "hash": "4f6adc6a38f23bff42698a137f21dd39a35c16ac478c8764a3dc02c0a3c2ed27"
   }
  }
 },
 "nbformat": 4,
 "nbformat_minor": 2
}
